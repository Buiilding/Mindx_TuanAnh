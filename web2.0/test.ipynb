{
 "cells": [
  {
   "cell_type": "code",
   "execution_count": 7,
   "metadata": {},
   "outputs": [],
   "source": [
    "import os\n",
    "import streamlit as st\n",
    "from PIL import Image\n",
    "import torch #operated by facebook with a lot of library\n",
    "import torch.nn as nn\n",
    "import inference_square_jpg\n",
    "weight_path = 'C:/Users/tuana/SLC_PRO/Source_Code/best.pth'\n",
    "from Classification_Model import Model\n",
    "from PIL import Image\n",
    "import torchvision.transforms as transforms"
   ]
  },
  {
   "cell_type": "code",
   "execution_count": 8,
   "metadata": {},
   "outputs": [],
   "source": [
    "model = Model(27)"
   ]
  },
  {
   "cell_type": "code",
   "execution_count": 12,
   "metadata": {},
   "outputs": [
    {
     "ename": "SyntaxError",
     "evalue": "(unicode error) 'unicodeescape' codec can't decode bytes in position 3-4: truncated \\UXXXXXXXX escape (2109675372.py, line 1)",
     "output_type": "error",
     "traceback": [
      "\u001b[1;36m  Cell \u001b[1;32mIn[12], line 1\u001b[1;36m\u001b[0m\n\u001b[1;33m    im_path = '\"C:\\Users\\tuana\\Downloads\\im 017510.jpg\"'\u001b[0m\n\u001b[1;37m                                                        ^\u001b[0m\n\u001b[1;31mSyntaxError\u001b[0m\u001b[1;31m:\u001b[0m (unicode error) 'unicodeescape' codec can't decode bytes in position 3-4: truncated \\UXXXXXXXX escape\n"
     ]
    }
   ],
   "source": [
    "im_path = 'C:/Users/tuana/Downloads/newd.jpg'\n",
    "uploaded_file= Image.open(im_path)\n",
    "print(type(uploaded_file))"
   ]
  },
  {
   "cell_type": "code",
   "execution_count": 10,
   "metadata": {},
   "outputs": [
    {
     "name": "stdout",
     "output_type": "stream",
     "text": [
      "tensor([[1.9607e-13, 3.3577e-10, 7.6296e-14, 4.3629e-13, 1.0105e-22, 9.6150e-21,\n",
      "         3.8764e-19, 5.8779e-18, 9.5064e-18, 4.4674e-14, 8.6274e-12, 2.0414e-13,\n",
      "         4.9999e-14, 3.0562e-15, 7.5349e-11, 1.0000e+00, 2.2267e-13, 6.5382e-21,\n",
      "         2.0425e-21, 2.8678e-15, 1.1658e-10, 1.8820e-15, 2.1749e-19, 6.0614e-20,\n",
      "         9.8272e-16, 6.0445e-15, 7.7484e-15]], grad_fn=<SoftmaxBackward0>)\n",
      "top_k_probs: tensor([[1.]], grad_fn=<TopkBackward0>) \n",
      "top_k_classes: tensor([[15]])\n"
     ]
    }
   ],
   "source": [
    "top_k_classes = inference_square_jpg.inference(model, weight_path, uploaded_file, 27)\n",
    "names = ['0','1','2','3','4','5','6','7','8','9','NULL','a','b','bye','c','d','e','good','good morning','hello','little bit','no','pardon','please','project','whats up','yes']"
   ]
  }
 ],
 "metadata": {
  "kernelspec": {
   "display_name": "base",
   "language": "python",
   "name": "python3"
  },
  "language_info": {
   "codemirror_mode": {
    "name": "ipython",
    "version": 3
   },
   "file_extension": ".py",
   "mimetype": "text/x-python",
   "name": "python",
   "nbconvert_exporter": "python",
   "pygments_lexer": "ipython3",
   "version": "3.11.4"
  }
 },
 "nbformat": 4,
 "nbformat_minor": 2
}
